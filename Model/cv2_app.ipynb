{
 "cells": [
  {
   "cell_type": "code",
   "execution_count": 4,
   "metadata": {},
   "outputs": [
    {
     "name": "stdout",
     "output_type": "stream",
     "text": [
      "Loaded model from disk\n"
     ]
    }
   ],
   "source": [
    "from keras.models import Sequential\n",
    "from keras.layers import Dense\n",
    "from keras.models import model_from_json\n",
    "import numpy as np\n",
    "import os\n",
    "import cv2\n",
    "import operator\n",
    "\n",
    "# load json and create model\n",
    "json_file = open('model-bw.json', 'r')\n",
    "loaded_model_json = json_file.read()\n",
    "json_file.close()\n",
    "loaded_model = model_from_json(loaded_model_json)\n",
    "# load weights into new model\n",
    "loaded_model.load_weights(\"model-bw.h5\")\n",
    "print(\"Loaded model from disk\")\n",
    "video = cv2.VideoCapture(0)\n",
    "top, right, bottom, left = 10, 100, 560, 590\n",
    "\n",
    "\n",
    "while True :\n",
    "    _,frame = video.read()\n",
    "    frame = cv2.flip(frame,1)\n",
    "    cv2.imshow(\"video\",frame)\n",
    "    h,w = frame.shape[:2]\n",
    "    roi = frame[top:bottom, right:left]\n",
    "    gray = cv2.cvtColor(roi,cv2.COLOR_BGR2GRAY)\n",
    "    blur = cv2.GaussianBlur(gray,(37,37),0)\n",
    "    #cv2.imshow(\"gray\",gray)\n",
    "    #cv2.imshow(\"blur\",blur)\n",
    "    cv2.imshow(\"ROI\",roi)\n",
    "    test, test_image = cv2.threshold(blur, 120, 255, cv2.THRESH_BINARY_INV + cv2.THRESH_OTSU)\n",
    "    cv2.imshow(\"test_image\",test_image)\n",
    "    \n",
    "    contours,hierarchy = cv2.findContours(test_image,cv2.RETR_TREE, cv2.CHAIN_APPROX_SIMPLE)[-2:]\n",
    "    if len(contours) > 0 :\n",
    "        contour = max(contours,key = cv2.contourArea)\n",
    "        \n",
    "        if(cv2.contourArea(contour) > 2000):\n",
    "            x, y, w, h = cv2.boundingRect(contour)\n",
    "            newImage = test_image[y:y + h, x:x + w]\n",
    "    \n",
    "    newImage = cv2.resize(newImage, (28, 28))\n",
    "    newImage = np.array(newImage)\n",
    "    newImage = newImage.flatten()\n",
    "    newImage = newImage.reshape(1,28,28, 1)\n",
    "    \n",
    "    result = loaded_model.predict(newImage)\n",
    "    \n",
    "    prediction = {'ZERO': result[0][0], \n",
    "                  'ONE': result[0][1], \n",
    "                  'TWO': result[0][2],\n",
    "                  'THREE': result[0][3],\n",
    "                  'FOUR': result[0][4],\n",
    "                  'SIX': result[0][6],\n",
    "                  'SEVEN': result[0][7],\n",
    "                  'EIGHT': result[0][8],\n",
    "                  'NINE': result[0][9],\n",
    "                  'FIVE': result[0][5]}\n",
    "    # Sorting based on top prediction\n",
    "    prediction = sorted(prediction.items(), key=operator.itemgetter(1), reverse=True)\n",
    "    #print(result)\n",
    "    \n",
    "    cv2.putText(frame,prediction[0][0],(10,380),cv2.FONT_HERSHEY_SIMPLEX, 0.7, (0, 0, 255), 2)   \n",
    "    #cv2.putText(img, \"Deep Network :  \" + str(ans3), (10, 380),\n",
    "                    #cv2.FONT_HERSHEY_SIMPLEX, 0.7, (0, 0, 255), 2)        \n",
    "    cv2.imshow(\"frame\",frame)\n",
    "    interrupt = cv2.waitKey(10)\n",
    "    if interrupt & 0xFF == 27: # esc key\n",
    "        break\n",
    "\n",
    "        \n",
    "video.release()\n",
    "cv2.destroyAllWindows()"
   ]
  },
  {
   "cell_type": "code",
   "execution_count": null,
   "metadata": {},
   "outputs": [],
   "source": []
  }
 ],
 "metadata": {
  "kernelspec": {
   "display_name": "Python 3",
   "language": "python",
   "name": "python3"
  },
  "language_info": {
   "codemirror_mode": {
    "name": "ipython",
    "version": 3
   },
   "file_extension": ".py",
   "mimetype": "text/x-python",
   "name": "python",
   "nbconvert_exporter": "python",
   "pygments_lexer": "ipython3",
   "version": "3.6.5"
  }
 },
 "nbformat": 4,
 "nbformat_minor": 2
}
