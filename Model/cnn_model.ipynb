{
 "cells": [
  {
   "cell_type": "code",
   "execution_count": 3,
   "metadata": {},
   "outputs": [],
   "source": [
    "import keras\n",
    "import numpy as np\n",
    "import matplotlib.pyplot as plt\n",
    "from keras.datasets import mnist\n",
    "from keras.models import Sequential\n",
    "from keras.layers import Dense\n",
    "from keras.layers import Dropout\n",
    "from keras.layers import MaxPooling2D,Conv2D,Flatten\n",
    "from keras.optimizers import SGD\n",
    "from keras.models import model_from_json"
   ]
  },
  {
   "cell_type": "code",
   "execution_count": 4,
   "metadata": {},
   "outputs": [
    {
     "name": "stdout",
     "output_type": "stream",
     "text": [
      "(60000, 28, 28)\n",
      "(60000,)\n",
      "(10000, 28, 28)\n",
      "(10000,)\n"
     ]
    }
   ],
   "source": [
    "(X_train, y_train), (X_test, y_test) = mnist.load_data()\n",
    "print(X_train.shape)\n",
    "print(y_train.shape)\n",
    "print(X_test.shape)\n",
    "print(y_test.shape)"
   ]
  },
  {
   "cell_type": "code",
   "execution_count": 5,
   "metadata": {},
   "outputs": [],
   "source": [
    "X_train = X_train/255\n",
    "X_test  = X_test/255\n",
    "y_train = keras.utils.to_categorical(y_train,10)\n",
    "y_test  = keras.utils.to_categorical(y_test,10)\n",
    "X_train = X_train.reshape(60000, 28, 28, 1).astype('float32')\n",
    "X_test = X_test.reshape(10000, 28, 28, 1).astype('float32')"
   ]
  },
  {
   "cell_type": "code",
   "execution_count": 7,
   "metadata": {},
   "outputs": [],
   "source": [
    "n_classes = 10\n",
    "model = Sequential()\n",
    "model.add(Conv2D(32, kernel_size=(3, 3), activation='relu', input_shape=(28, 28, 1)))\n",
    "model.add(Conv2D(64, kernel_size=(3, 3), activation='relu'))\n",
    "model.add(MaxPooling2D(pool_size=(2, 2)))\n",
    "model.add(Dropout(0.25))\n",
    "model.add(Flatten())\n",
    "model.add(Dense(128, activation='relu'))\n",
    "model.add(Dropout(0.5))\n",
    "model.add(Dense(n_classes, activation='softmax'))"
   ]
  },
  {
   "cell_type": "code",
   "execution_count": 8,
   "metadata": {},
   "outputs": [],
   "source": [
    "model.compile(loss='categorical_crossentropy', optimizer='adam', metrics=['accuracy'])"
   ]
  },
  {
   "cell_type": "code",
   "execution_count": 9,
   "metadata": {},
   "outputs": [
    {
     "name": "stdout",
     "output_type": "stream",
     "text": [
      "Train on 60000 samples, validate on 10000 samples\n",
      "Epoch 1/5\n",
      "60000/60000 [==============================] - 353s 6ms/step - loss: 0.2411 - acc: 0.9270 - val_loss: 0.0579 - val_acc: 0.9803\n",
      "Epoch 2/5\n",
      "60000/60000 [==============================] - 354s 6ms/step - loss: 0.0903 - acc: 0.9732 - val_loss: 0.0384 - val_acc: 0.9875\n",
      "Epoch 3/5\n",
      "60000/60000 [==============================] - 543s 9ms/step - loss: 0.0675 - acc: 0.9802 - val_loss: 0.0351 - val_acc: 0.9886\n",
      "Epoch 4/5\n",
      "60000/60000 [==============================] - 353s 6ms/step - loss: 0.0545 - acc: 0.9835 - val_loss: 0.0322 - val_acc: 0.9899\n",
      "Epoch 5/5\n",
      "60000/60000 [==============================] - 360s 6ms/step - loss: 0.0477 - acc: 0.9852 - val_loss: 0.0395 - val_acc: 0.9876\n"
     ]
    },
    {
     "data": {
      "text/plain": [
       "<keras.callbacks.History at 0x23126344550>"
      ]
     },
     "execution_count": 9,
     "metadata": {},
     "output_type": "execute_result"
    }
   ],
   "source": [
    "model.fit(X_train, y_train, batch_size=128, epochs=5, verbose=1, validation_data=(X_test, y_test))"
   ]
  },
  {
   "cell_type": "code",
   "execution_count": 11,
   "metadata": {},
   "outputs": [],
   "source": [
    "# Saving the model\n",
    "model_json = model.to_json()\n",
    "with open(\"model-bw.json\", \"w\") as json_file:\n",
    "    json_file.write(model_json)\n",
    "model.save_weights('model-bw.h5')"
   ]
  },
  {
   "cell_type": "markdown",
   "metadata": {},
   "source": [
    "import numpy as np\n",
    "import cv2\n",
    "\n",
    "video = cv2.VideoCapture(0)\n",
    "top, right, bottom, left = 10, 100, 560, 590\n",
    "\n",
    "while True :\n",
    "    aWeight = 0.5\n",
    "    _,frame = video.read()\n",
    "    frame = cv2.flip(frame,1)\n",
    "    cv2.imshow(\"video\",frame)\n",
    "    h,w = frame.shape[:2]\n",
    "    roi = frame[top:bottom, right:left]\n",
    "    gray = cv2.cvtColor(roi,cv2.COLOR_BGR2GRAY)\n",
    "    blur = cv2.GaussianBlur(gray,(37,37),0)\n",
    "    cv2.imshow(\"gray\",gray)\n",
    "    cv2.imshow(\"blur\",blur)\n",
    "    \n",
    "    test, test_image = cv2.threshold(blur, 120, 255, cv2.THRESH_BINARY_INV + cv2.THRESH_OTSU)\n",
    "    cv2.imshow(\"test_image\",test_image)\n",
    "    \n",
    "    contours,hierarchy = cv2.findContours(test_image,cv2.RETR_TREE, cv2.CHAIN_APPROX_SIMPLE)[-2:]\n",
    "    if len(contours) > 0 :\n",
    "        contour = max(contours,key = cv2.contourArea)\n",
    "        \n",
    "        if(cv2.contourArea(contour) > 2000):\n",
    "            x, y, w, h = cv2.boundingRect(contour)\n",
    "            newImage = test_image[y:y + h, x:x + w]\n",
    "    \n",
    "    newImage = cv2.resize(newImage, (28, 28))\n",
    "    newImage = np.array(newImage)\n",
    "    newImage = newImage.flatten()\n",
    "    newImage = newImage.reshape(1,28,28, 1)\n",
    "    \n",
    "    result = model.predict(newImage)\n",
    "    \n",
    "    print(result)\n",
    "    cv2.putText(frame,\"predicted-value\"+ str(result),(10,380),cv2.FONT_HERSHEY_SIMPLEX, 0.7, (0, 0, 255), 2)   \n",
    "    #cv2.putText(img, \"Deep Network :  \" + str(ans3), (10, 380),\n",
    "                    #cv2.FONT_HERSHEY_SIMPLEX, 0.7, (0, 0, 255), 2)        \n",
    "    cv2.imshow(\"frame\",frame)\n",
    "    interrupt = cv2.waitKey(10)\n",
    "    if interrupt & 0xFF == 27: # esc key\n",
    "        break\n",
    "\n",
    "        \n",
    "video.release()\n",
    "cv2.destroyAllWindows()"
   ]
  },
  {
   "cell_type": "code",
   "execution_count": null,
   "metadata": {},
   "outputs": [],
   "source": []
  },
  {
   "cell_type": "code",
   "execution_count": null,
   "metadata": {},
   "outputs": [],
   "source": []
  }
 ],
 "metadata": {
  "kernelspec": {
   "display_name": "Python 3",
   "language": "python",
   "name": "python3"
  },
  "language_info": {
   "codemirror_mode": {
    "name": "ipython",
    "version": 3
   },
   "file_extension": ".py",
   "mimetype": "text/x-python",
   "name": "python",
   "nbconvert_exporter": "python",
   "pygments_lexer": "ipython3",
   "version": "3.6.5"
  }
 },
 "nbformat": 4,
 "nbformat_minor": 2
}
